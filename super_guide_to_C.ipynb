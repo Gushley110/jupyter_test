{
 "cells": [
  {
   "cell_type": "markdown",
   "metadata": {},
   "source": [
    "# Mini guía para aprobar Algoritmia"
   ]
  },
  {
   "cell_type": "markdown",
   "metadata": {},
   "source": [
    "Vamos a empezar desde cero pero todo será breve y conciso.\n",
    "\n",
    "Primero necesitamos importar las bibliotecas correspondientes para hacer uso de las funciones que vamos a necesitar. Por la simplicidad de los programas de ahora, solo necesitaremos a lo mucho 3 de estas bibliotecas. Sí, bibliotecas, no librerias. :B\n",
    "\n",
    "## Tipos de Dato\n",
    "\n",
    "Hay 3 tipos de datos principales"
   ]
  },
  {
   "cell_type": "code",
   "execution_count": 1,
   "metadata": {},
   "outputs": [
    {
     "name": "stdout",
     "output_type": "stream",
     "text": [
      "Asi imprimo un int : 0 \n",
      "Asi un float: 15.200000 \n",
      "Asi un caracter: a \n"
     ]
    }
   ],
   "source": [
    "#include <stdio.h> // Standard input-output, por eso se llama stdio\n",
    "\n",
    "int main(){\n",
    "    \n",
    "    int x = 0;\n",
    "    float f = 15.2;\n",
    "    char c = 'a';\n",
    "    \n",
    "    printf(\"Asi imprimo un int : %d \\n\",x);\n",
    "    printf(\"Asi un float: %f \\n\",f);\n",
    "    printf(\"Asi un caracter: %c \\n\",c);\n",
    "\n",
    "    return 0;\n",
    "}"
   ]
  },
  {
   "cell_type": "markdown",
   "metadata": {},
   "source": [
    "## Compilando en terminal\n",
    "\n",
    "Para compilar un programa utilizamos el comando \"gcc\" acompañado de algunos parámetros.\n",
    "\n",
    "### gcc nombre_archivo.c -o nombre_del_ejecutable\n",
    "\n",
    "En este caso nuestro archivo se llama \"tipos_dato.c\" y lo compilaremos de la siguiente manera"
   ]
  },
  {
   "cell_type": "markdown",
   "metadata": {},
   "source": [
    "### gcc tipos_dato.c -o tipos"
   ]
  },
  {
   "cell_type": "markdown",
   "metadata": {},
   "source": [
    "Nos va a generar un archivo que se va a llamar \"tipos.out\" o \"tipos.exe\" dependiendo si lo estas compilando en Linux o Windows y lo correremos así en Linux y de la misma manera pero ignorando el \"./\" para Windows"
   ]
  },
  {
   "cell_type": "markdown",
   "metadata": {},
   "source": [
    "### ./tipos"
   ]
  },
  {
   "cell_type": "markdown",
   "metadata": {},
   "source": [
    "## Arreglos\n",
    "\n",
    "Existen varias formas de declarar los arreglos. Antes quiero que sepas que un arreglo son datos alojados en memoria de manera continua, es decir uno tras otro. Es por eso que se pueden manejar los arreglos como apuntadores."
   ]
  },
  {
   "cell_type": "code",
   "execution_count": 9,
   "metadata": {},
   "outputs": [
    {
     "name": "stdout",
     "output_type": "stream",
     "text": [
      "----- Valores de X -----\n",
      "x[0] = 5\n",
      "x[1] = 4\n",
      "x[2] = 3\n",
      "x[3] = 2\n",
      "x[4] = 1\n",
      "----- Valores de f -----\n",
      "f[0] = 1.200000\n",
      "f[1] = 3.140000\n",
      "f[2] = 5.000000\n",
      "----- Valores de c -----\n",
      "Hola Jess"
     ]
    }
   ],
   "source": [
    "#include <stdio.h>\n",
    "\n",
    "int main(){\n",
    "    \n",
    "    int x[5]; //Arreglo de tamaño 5\n",
    "    float f[] = {1.2,3.14,5}; // Arreglo de tamaño desconocido hasta la asignación\n",
    "    char *c = \"Hola Jess\"; //Apuntador, las cadenas son simples arreglos de caracteres\n",
    "    \n",
    "    x[0] = 5;\n",
    "    x[1] = 4;\n",
    "    x[2] = 3; //Asignamos los valores por el indice\n",
    "    x[3] = 2;\n",
    "    x[4] = 1;\n",
    "    \n",
    "    printf(\"----- Valores de X -----\\n\");\n",
    "    \n",
    "    for(int i = 0; i < 5; i++){\n",
    "        printf(\"x[%d] = %d\\n\",i,x[i]);  //Imprimimos por valor de indice\n",
    "    }\n",
    "    \n",
    "    printf(\"----- Valores de f -----\\n\");\n",
    "    \n",
    "    for(int i = 0; i < 3; i++){\n",
    "        printf(\"f[%d] = %f\\n\",i,*(f+i)); //Imprimimos recorriendo el valor de la direccion de memoria\n",
    "    }\n",
    "    \n",
    "    printf(\"----- Valores de c -----\\n\");\n",
    "    \n",
    "    printf(\"%s\", c); //Podriamos hacer un for pero C nos permite imprimir arreglos de caracteres asi :B\n",
    "    \n",
    "    return 0;\n",
    "}"
   ]
  },
  {
   "cell_type": "markdown",
   "metadata": {},
   "source": [
    "Creo que ya es lo básico, asumo que ya sabes utilizar las estructuras de control IF,ELSE,SWITCH,FOR,WHILE,DO-WHILE. Haremos rápidamente el código de tu examen de 3er parcial para que puedas usarlo de ejemplo en caso que lo necesites. \n",
    "\n",
    "### 1. Leer el nombre de una persona y mostrar la última vocal de su nombre.\n",
    "\n",
    "### 2. Dado un apellido paterno leído del teclado mostrar únicamente sus consonantes.\n",
    "\n",
    "### 3. Dado el apellido (asumí materno) de una persona mostrar la primer letra y la primer consonante siguiente a la primer letra. \n",
    "\n",
    "### 4. Defina una estructura en C (usando struct). Para agrupar el nombre y el promedio de una persona. Lea los valores desde el teclado, almacénelos en la variable de tipo estructura e imprima los datos leídos en pantalla.\n",
    "\n",
    "Separé todo en funciones para que sea más fácil explicar "
   ]
  },
  {
   "cell_type": "code",
   "execution_count": null,
   "metadata": {},
   "outputs": [],
   "source": [
    "#include <stdio.h>\n",
    "#include <stdlib.h>\n",
    "\n",
    "// Prototipos o firmas de las funciones. Sirve para poder llamarlas antes de haber codificado lo que van a hacer.\n",
    "\n",
    "size_t getLength(char *); // Regresa el tamaño de una cadena\n",
    "char lastVowel(char *); // Regresa la última vocal\n",
    "char* onlyConsonants(char *); // Regresa todas las consonantes de una palabra\n",
    "char firstConsonant(char *); // Regresa la primera consonante que no es la primera letra\n",
    "char firstLetter(char *); // Regresa la primera letra\n",
    "\n",
    "struct Person{\n",
    "\tchar name[15];    // así se crean las estructuras\n",
    "\tint avg;\n",
    "};\n",
    "\n",
    "int main(){\n",
    "\n",
    "    char name[15];\n",
    "    char fName[15];\n",
    "    char lName[15];\n",
    "    struct Person p;\n",
    "    \n",
    "    // -------------------- Primer punto del examen ------------------\n",
    "\n",
    "    printf(\"Nombre: \\n\");\n",
    "    scanf(\"%[^\\n]s\", name);\n",
    "\n",
    "    printf(\"Ultima vocal: '%c'\\n\", lastVowel(name));\n",
    "    \n",
    "    // ---------------------------------------------------------------\n",
    "    // -------------------- Segundo punto del examen ------------------\n",
    "\n",
    "    printf(\"Apellido Paterno: \\n\");\n",
    "    getchar();\n",
    "    scanf(\"%[^\\n]s\", fName);\n",
    "\n",
    "    printf(\"Consonantes: [%s]\\n\",onlyConsonants(fName));\n",
    "    \n",
    "    // ---------------------------------------------------------------\n",
    "    // -------------------- Tercer punto del examen ------------------\n",
    "\n",
    "    printf(\"Apellido Materno: \\n\");\n",
    "    getchar();\n",
    "    scanf(\"%[^\\n]s\", lName);\n",
    "\n",
    "    printf(\"Primera Letra: '%c'\\nPrimera consonante: '%c'\\n\", firstLetter(lName),firstConsonant(lName));\n",
    "    \n",
    "    // ---------------------------------------------------------------\n",
    "    // -------------------- Cuarto punto del examen ------------------\n",
    "\n",
    "    printf(\"Nombre: \\n\");\n",
    "    getchar();\n",
    "    scanf(\"%[^\\n]s\", p.name);\n",
    "\n",
    "    printf(\"Promedio: \\n\");\n",
    "    getchar();\n",
    "    scanf(\"%d\", &p.avg);\n",
    "\n",
    "    printf(\"Nombre: %s | Promedio: %d \\n\", p.name,p.avg);\n",
    "    \n",
    "    // ---------------------------------------------------------------\n",
    "    \n",
    "\n",
    "    return 0;\n",
    "}\n",
    "\n",
    "size_t getLength(char* string){ // Recibimos un arreglo de caracteres\n",
    "\n",
    "    int size = 0;\n",
    "\n",
    "    while(string[size] != '\\0'){ //Recorremos la cadena hasta encontrar el final de cadena '\\0'\n",
    "        size++;                  // y vamos incrementando en uno\n",
    "    }\n",
    "\n",
    "    return (size_t)size;         // Casteamos a size_t porque eso pusimos que regresaría y teníamos un int\n",
    "}\n",
    "\n",
    "char lastVowel(char *name){\n",
    "    \n",
    "    int i;\n",
    "    char lastVowel;\n",
    "    \n",
    "    for(i = getLength(name); i > 0; i--){ // Comenzamos el for al final de la cadena y vamos hacia atrás \n",
    "        if(name[i] == 'a' || name[i] == 'e' || name[i] == 'i' || name[i] == 'o' || name[i] == 'u'){\n",
    "            lastVowel = name[i]; // Cuando encontramos alguna vocal rompemos el ciclo y lo guardamos\n",
    "            break;\n",
    "        }\n",
    "    }\n",
    "\n",
    "    return lastVowel;\n",
    "\n",
    "}\n",
    "\n",
    "char* onlyConsonants(char * name){ // Ahora recordé que dijiste que eras buena entendiendo que hacía el código \n",
    "\n",
    "    int i,j;\n",
    "    char * result;         // y la verdad ya me dió flojera explicarlo. Confío en tus palabras\n",
    "\n",
    "    result = malloc(sizeof(char) * getLength(name)); // si tienes duda de algo me avisas :b\n",
    "    j = 0;\n",
    "\n",
    "    for(i = 0; i < getLength(name); i++){\n",
    "        if(name[i] != 'a' && name[i] != 'e' && name[i] != 'i' && name[i] != 'o' && name[i] != 'u'){\n",
    "            result[j] = name[i];\n",
    "            j++;\n",
    "        }\n",
    "    }\n",
    "\n",
    "    return result;\n",
    "\n",
    "}\n",
    "\n",
    "char firstConsonant(char* name){\n",
    "\n",
    "    int i;\n",
    "    char fConstant;\n",
    "    \n",
    "    for(i = 1; i < getLength(name); i++){\n",
    "        if(name[i] != 'a' && name[i] != 'e' && name[i] != 'i' && name[i] != 'o' && name[i] != 'u'){\n",
    "            fConstant = name[i];\n",
    "            break;\n",
    "        }\n",
    "    }\n",
    "\n",
    "    return fConstant;\n",
    "}\n",
    "\n",
    "char firstLetter(char* name){\n",
    "    return name[0];\n",
    "}"
   ]
  },
  {
   "cell_type": "code",
   "execution_count": null,
   "metadata": {},
   "outputs": [],
   "source": []
  }
 ],
 "metadata": {
  "kernelspec": {
   "display_name": "C",
   "language": "c",
   "name": "c"
  },
  "language_info": {
   "file_extension": ".c",
   "mimetype": "text/plain",
   "name": "c"
  }
 },
 "nbformat": 4,
 "nbformat_minor": 2
}
