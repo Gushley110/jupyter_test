{
 "cells": [
  {
   "cell_type": "markdown",
   "metadata": {},
   "source": [
    "# Mini guía para aprobar Algoritmia"
   ]
  },
  {
   "cell_type": "markdown",
   "metadata": {},
   "source": [
    "Vamos a empezar desde cero pero todo será breve y conciso.\n",
    "\n",
    "Primero necesitamos importar las bibliotecas correspondientes para hacer uso de las funciones que vamos a necesitar. Por la simplicidad de los programas de ahora, solo necesitaremos a lo mucho 3 de estas bibliotecas. Sí, bibliotecas, no librerias. :B\n",
    "\n",
    "Hay 3 tipos de datos principales"
   ]
  },
  {
   "cell_type": "code",
   "execution_count": 1,
   "metadata": {},
   "outputs": [
    {
     "name": "stdout",
     "output_type": "stream",
     "text": [
      "Asi imprimo un int : 0 \n",
      "Asi un float: 15.200000 \n",
      "Asi un caracter: a \n"
     ]
    }
   ],
   "source": [
    "#include <stdio.h>\n",
    "\n",
    "int main(){\n",
    "    \n",
    "    int x = 0;\n",
    "    float f = 15.2;\n",
    "    char c = 'a';\n",
    "    \n",
    "    printf(\"Asi imprimo un int : %d \\n\",x);\n",
    "    printf(\"Asi un float: %f \\n\",f);\n",
    "    printf(\"Asi un caracter: %c \\n\",c);\n",
    "\n",
    "    return 0;\n",
    "}"
   ]
  },
  {
   "cell_type": "markdown",
   "metadata": {},
   "source": [
    "## Compilando en terminal\n",
    "\n",
    "Para compilar un programa utilizamos el comando \"gcc\" acompañado de algunos parámetros.\n",
    "\n",
    "$ gcc <nombre_archivo.c> -o <nombre_que_le_daremos_al_ejecutable>.\n",
    "\n",
    "En este caso nuestro archivo se llama \"tipos_dato.c\" y lo compilaremos de la siguiente manera"
   ]
  },
  {
   "cell_type": "markdown",
   "metadata": {},
   "source": [
    "gcc tipos_dato.c -o tipos"
   ]
  },
  {
   "cell_type": "markdown",
   "metadata": {},
   "source": [
    "Nos va a generar un archivo que se va a llamar \"tipos.out\" o \"tipos.exe\" dependiendo si lo estas compilando en Linux o Windows y lo correremos así en Linux y de la misma manera pero ignorando el \"./\" para Windows"
   ]
  },
  {
   "cell_type": "markdown",
   "metadata": {},
   "source": [
    "$ ./tipos"
   ]
  }
 ],
 "metadata": {
  "kernelspec": {
   "display_name": "C",
   "language": "c",
   "name": "c"
  },
  "language_info": {
   "file_extension": ".c",
   "mimetype": "text/plain",
   "name": "c"
  }
 },
 "nbformat": 4,
 "nbformat_minor": 2
}
