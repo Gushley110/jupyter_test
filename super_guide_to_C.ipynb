{
 "cells": [
  {
   "cell_type": "markdown",
   "metadata": {},
   "source": [
    "# Mini guía para aprobar Algoritmia"
   ]
  },
  {
   "cell_type": "markdown",
   "metadata": {},
   "source": [
    "Vamos a empezar desde cero pero todo será breve y conciso.\n",
    "\n",
    "Primero necesitamos importar las bibliotecas correspondientes para hacer uso de las funciones que vamos a necesitar. Por la simplicidad de los programas de ahora, solo necesitaremos a lo mucho 3 de estas bibliotecas. Sí, bibliotecas, no librerias. :B\n",
    "\n",
    "## Tipos de Dato\n",
    "\n",
    "Hay 3 tipos de datos principales"
   ]
  },
  {
   "cell_type": "code",
   "execution_count": 1,
   "metadata": {},
   "outputs": [
    {
     "name": "stdout",
     "output_type": "stream",
     "text": [
      "Asi imprimo un int : 0 \n",
      "Asi un float: 15.200000 \n",
      "Asi un caracter: a \n"
     ]
    }
   ],
   "source": [
    "#include <stdio.h>\n",
    "\n",
    "int main(){\n",
    "    \n",
    "    int x = 0;\n",
    "    float f = 15.2;\n",
    "    char c = 'a';\n",
    "    \n",
    "    printf(\"Asi imprimo un int : %d \\n\",x);\n",
    "    printf(\"Asi un float: %f \\n\",f);\n",
    "    printf(\"Asi un caracter: %c \\n\",c);\n",
    "\n",
    "    return 0;\n",
    "}"
   ]
  },
  {
   "cell_type": "markdown",
   "metadata": {},
   "source": [
    "## Compilando en terminal\n",
    "\n",
    "Para compilar un programa utilizamos el comando \"gcc\" acompañado de algunos parámetros.\n",
    "\n",
    "### gcc nombre_archivo.c -o nombre_del_ejecutable\n",
    "\n",
    "En este caso nuestro archivo se llama \"tipos_dato.c\" y lo compilaremos de la siguiente manera"
   ]
  },
  {
   "cell_type": "markdown",
   "metadata": {},
   "source": [
    "### gcc tipos_dato.c -o tipos"
   ]
  },
  {
   "cell_type": "markdown",
   "metadata": {},
   "source": [
    "Nos va a generar un archivo que se va a llamar \"tipos.out\" o \"tipos.exe\" dependiendo si lo estas compilando en Linux o Windows y lo correremos así en Linux y de la misma manera pero ignorando el \"./\" para Windows"
   ]
  },
  {
   "cell_type": "markdown",
   "metadata": {},
   "source": [
    "### ./tipos"
   ]
  },
  {
   "cell_type": "markdown",
   "metadata": {},
   "source": [
    "## Arreglos\n",
    "\n",
    "Existen varias formas de declarar los arreglos. Antes quiero que sepas que un arreglo son datos alojados en memoria de manera continua, es decir uno tras otro. Es por eso que se pueden manejar los arreglos como apuntadores."
   ]
  },
  {
   "cell_type": "code",
   "execution_count": 9,
   "metadata": {},
   "outputs": [
    {
     "name": "stdout",
     "output_type": "stream",
     "text": [
      "----- Valores de X -----\n",
      "x[0] = 5\n",
      "x[1] = 4\n",
      "x[2] = 3\n",
      "x[3] = 2\n",
      "x[4] = 1\n",
      "----- Valores de f -----\n",
      "f[0] = 1.200000\n",
      "f[1] = 3.140000\n",
      "f[2] = 5.000000\n",
      "----- Valores de c -----\n",
      "Hola Jess"
     ]
    }
   ],
   "source": [
    "#include <stdio.h>\n",
    "\n",
    "int main(){\n",
    "    \n",
    "    int x[5]; //Arreglo de tamaño 5\n",
    "    float f[] = {1.2,3.14,5}; // Arreglo de tamaño desconocido hasta la asignación\n",
    "    char *c = \"Hola Jess\"; //Apuntador, las cadenas son simples arreglos de caracteres\n",
    "    \n",
    "    x[0] = 5;\n",
    "    x[1] = 4;\n",
    "    x[2] = 3; //Asignamos los valores por el indice\n",
    "    x[3] = 2;\n",
    "    x[4] = 1;\n",
    "    \n",
    "    printf(\"----- Valores de X -----\\n\");\n",
    "    \n",
    "    for(int i = 0; i < 5; i++){\n",
    "        printf(\"x[%d] = %d\\n\",i,x[i]);  //Imprimimos por valor de indice\n",
    "    }\n",
    "    \n",
    "    printf(\"----- Valores de f -----\\n\");\n",
    "    \n",
    "    for(int i = 0; i < 3; i++){\n",
    "        printf(\"f[%d] = %f\\n\",i,*(f+i)); //Imprimimos recorriendo el valor de la direccion de memoria\n",
    "    }\n",
    "    \n",
    "    printf(\"----- Valores de c -----\\n\");\n",
    "    \n",
    "    printf(\"%s\", c); //Podriamos hacer un for pero C nos permite imprimir arreglos de caracteres asi :B\n",
    "    \n",
    "    return 0;\n",
    "}"
   ]
  }
 ],
 "metadata": {
  "kernelspec": {
   "display_name": "C",
   "language": "c",
   "name": "c"
  },
  "language_info": {
   "file_extension": ".c",
   "mimetype": "text/plain",
   "name": "c"
  }
 },
 "nbformat": 4,
 "nbformat_minor": 2
}
