{
 "cells": [
  {
   "cell_type": "markdown",
   "metadata": {},
   "source": [
    "# Mini guía para aprobar Algoritmia"
   ]
  },
  {
   "cell_type": "markdown",
   "metadata": {},
   "source": [
    "Vamos a empezar desde cero pero todo será breve y conciso.\n",
    "\n",
    "Primero necesitamos importar las bibliotecas correspondientes para hacer uso de las funciones que vamos a necesitar. Por la simplicidad de los programas de ahora, solo necesitaremos a lo mucho 3 de estas bibliotecas. Sí, bibliotecas, no librerias. :B\n",
    "\n",
    "Hay 3 tipos de datos principales"
   ]
  },
  {
   "cell_type": "code",
   "execution_count": 1,
   "metadata": {},
   "outputs": [
    {
     "name": "stdout",
     "output_type": "stream",
     "text": [
      "Asi imprimo un int : 0 \n",
      "Asi un float: 15.200000 \n",
      "Asi un caracter: a \n"
     ]
    }
   ],
   "source": [
    "#include <stdio.h>\n",
    "\n",
    "int main(){\n",
    "    \n",
    "    int x = 0;\n",
    "    float f = 15.2;\n",
    "    char c = 'a';\n",
    "    \n",
    "    printf(\"Asi imprimo un int : %d \\n\",x);\n",
    "    printf(\"Asi un float: %f \\n\",f);\n",
    "    printf(\"Asi un caracter: %c \\n\",c);\n",
    "\n",
    "    return 0;\n",
    "}"
   ]
  },
  {
   "cell_type": "code",
   "execution_count": null,
   "metadata": {},
   "outputs": [],
   "source": []
  }
 ],
 "metadata": {
  "kernelspec": {
   "display_name": "C",
   "language": "c",
   "name": "c"
  },
  "language_info": {
   "file_extension": ".c",
   "mimetype": "text/plain",
   "name": "c"
  }
 },
 "nbformat": 4,
 "nbformat_minor": 2
}
